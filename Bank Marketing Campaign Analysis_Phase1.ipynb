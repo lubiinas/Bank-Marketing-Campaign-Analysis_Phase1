{
 "cells": [
  {
   "cell_type": "markdown",
   "id": "e10dd698-121a-44eb-acba-1a4fb10551b4",
   "metadata": {},
   "source": [
    "# Bank Marketing Campaign Analysis"
   ]
  },
  {
   "cell_type": "markdown",
   "id": "0d1d33ae-f93a-49da-8c34-ca8a98aa5e4e",
   "metadata": {},
   "source": [
    "*This project aims to analyze data from a bank marketing campaign to predict customer behavior using machine learning techniques. The dataset contains customer information and details about past marketing efforts.*"
   ]
  },
  {
   "cell_type": "markdown",
   "id": "26d3393d-636d-4e28-bf08-b7f7910bb168",
   "metadata": {},
   "source": [
    "## Objective:\n",
    "*Classification Task: Predict whether a client will subscribe to a term deposit (yes/no).*  \n",
    "*Regression Task: Analyze the impact of numerical features (e.g., balance, duration) on customer behavior.*"
   ]
  },
  {
   "cell_type": "code",
   "execution_count": 89,
   "id": "8edc41ef-5ed4-4146-8637-4d394428f158",
   "metadata": {},
   "outputs": [],
   "source": [
    "# Importing Libraries\n",
    "import pandas as pd\n",
    "import numpy as np\n",
    "import matplotlib.pyplot as plt\n",
    "import seaborn as sns\n",
    "from sklearn.model_selection import train_test_split\n",
    "from sklearn.preprocessing import LabelEncoder, StandardScaler\n",
    "from sklearn.ensemble import RandomForestClassifier, RandomForestRegressor\n",
    "from sklearn.metrics import accuracy_score, classification_report, mean_absolute_error, mean_squared_error\n"
   ]
  },
  {
   "cell_type": "markdown",
   "id": "2da756bb-1ed3-4784-a8f8-1ad884037e47",
   "metadata": {},
   "source": [
    "### 1.Load Dataset"
   ]
  },
  {
   "cell_type": "code",
   "execution_count": 91,
   "id": "765c18b3-33e2-43df-bf98-eb4dcbfc381b",
   "metadata": {},
   "outputs": [
    {
     "data": {
      "text/html": [
       "<div>\n",
       "<style scoped>\n",
       "    .dataframe tbody tr th:only-of-type {\n",
       "        vertical-align: middle;\n",
       "    }\n",
       "\n",
       "    .dataframe tbody tr th {\n",
       "        vertical-align: top;\n",
       "    }\n",
       "\n",
       "    .dataframe thead th {\n",
       "        text-align: right;\n",
       "    }\n",
       "</style>\n",
       "<table border=\"1\" class=\"dataframe\">\n",
       "  <thead>\n",
       "    <tr style=\"text-align: right;\">\n",
       "      <th></th>\n",
       "      <th>age</th>\n",
       "      <th>job</th>\n",
       "      <th>marital</th>\n",
       "      <th>education</th>\n",
       "      <th>default</th>\n",
       "      <th>balance</th>\n",
       "      <th>housing</th>\n",
       "      <th>loan</th>\n",
       "      <th>contact</th>\n",
       "      <th>day</th>\n",
       "      <th>month</th>\n",
       "      <th>duration</th>\n",
       "      <th>campaign</th>\n",
       "      <th>pdays</th>\n",
       "      <th>previous</th>\n",
       "      <th>poutcome</th>\n",
       "      <th>y</th>\n",
       "    </tr>\n",
       "  </thead>\n",
       "  <tbody>\n",
       "    <tr>\n",
       "      <th>0</th>\n",
       "      <td>58</td>\n",
       "      <td>management</td>\n",
       "      <td>married</td>\n",
       "      <td>tertiary</td>\n",
       "      <td>no</td>\n",
       "      <td>2143</td>\n",
       "      <td>yes</td>\n",
       "      <td>no</td>\n",
       "      <td>unknown</td>\n",
       "      <td>5</td>\n",
       "      <td>may</td>\n",
       "      <td>261</td>\n",
       "      <td>1</td>\n",
       "      <td>-1</td>\n",
       "      <td>0</td>\n",
       "      <td>unknown</td>\n",
       "      <td>no</td>\n",
       "    </tr>\n",
       "    <tr>\n",
       "      <th>1</th>\n",
       "      <td>44</td>\n",
       "      <td>technician</td>\n",
       "      <td>single</td>\n",
       "      <td>secondary</td>\n",
       "      <td>no</td>\n",
       "      <td>29</td>\n",
       "      <td>yes</td>\n",
       "      <td>no</td>\n",
       "      <td>unknown</td>\n",
       "      <td>5</td>\n",
       "      <td>may</td>\n",
       "      <td>151</td>\n",
       "      <td>1</td>\n",
       "      <td>-1</td>\n",
       "      <td>0</td>\n",
       "      <td>unknown</td>\n",
       "      <td>no</td>\n",
       "    </tr>\n",
       "    <tr>\n",
       "      <th>2</th>\n",
       "      <td>33</td>\n",
       "      <td>entrepreneur</td>\n",
       "      <td>married</td>\n",
       "      <td>secondary</td>\n",
       "      <td>no</td>\n",
       "      <td>2</td>\n",
       "      <td>yes</td>\n",
       "      <td>yes</td>\n",
       "      <td>unknown</td>\n",
       "      <td>5</td>\n",
       "      <td>may</td>\n",
       "      <td>76</td>\n",
       "      <td>1</td>\n",
       "      <td>-1</td>\n",
       "      <td>0</td>\n",
       "      <td>unknown</td>\n",
       "      <td>no</td>\n",
       "    </tr>\n",
       "    <tr>\n",
       "      <th>3</th>\n",
       "      <td>47</td>\n",
       "      <td>blue-collar</td>\n",
       "      <td>married</td>\n",
       "      <td>unknown</td>\n",
       "      <td>no</td>\n",
       "      <td>1506</td>\n",
       "      <td>yes</td>\n",
       "      <td>no</td>\n",
       "      <td>unknown</td>\n",
       "      <td>5</td>\n",
       "      <td>may</td>\n",
       "      <td>92</td>\n",
       "      <td>1</td>\n",
       "      <td>-1</td>\n",
       "      <td>0</td>\n",
       "      <td>unknown</td>\n",
       "      <td>no</td>\n",
       "    </tr>\n",
       "    <tr>\n",
       "      <th>4</th>\n",
       "      <td>33</td>\n",
       "      <td>unknown</td>\n",
       "      <td>single</td>\n",
       "      <td>unknown</td>\n",
       "      <td>no</td>\n",
       "      <td>1</td>\n",
       "      <td>no</td>\n",
       "      <td>no</td>\n",
       "      <td>unknown</td>\n",
       "      <td>5</td>\n",
       "      <td>may</td>\n",
       "      <td>198</td>\n",
       "      <td>1</td>\n",
       "      <td>-1</td>\n",
       "      <td>0</td>\n",
       "      <td>unknown</td>\n",
       "      <td>no</td>\n",
       "    </tr>\n",
       "  </tbody>\n",
       "</table>\n",
       "</div>"
      ],
      "text/plain": [
       "   age           job  marital  education default  balance housing loan  \\\n",
       "0   58    management  married   tertiary      no     2143     yes   no   \n",
       "1   44    technician   single  secondary      no       29     yes   no   \n",
       "2   33  entrepreneur  married  secondary      no        2     yes  yes   \n",
       "3   47   blue-collar  married    unknown      no     1506     yes   no   \n",
       "4   33       unknown   single    unknown      no        1      no   no   \n",
       "\n",
       "   contact  day month  duration  campaign  pdays  previous poutcome   y  \n",
       "0  unknown    5   may       261         1     -1         0  unknown  no  \n",
       "1  unknown    5   may       151         1     -1         0  unknown  no  \n",
       "2  unknown    5   may        76         1     -1         0  unknown  no  \n",
       "3  unknown    5   may        92         1     -1         0  unknown  no  \n",
       "4  unknown    5   may       198         1     -1         0  unknown  no  "
      ]
     },
     "execution_count": 91,
     "metadata": {},
     "output_type": "execute_result"
    }
   ],
   "source": [
    "# Load Excel file\n",
    "df = pd.read_excel(\"C:\\\\Users\\\\AS\\\\Downloads\\\\bank-full.xlsx\")\n",
    "\n",
    "# Display first 5 rows\n",
    "df.head()"
   ]
  },
  {
   "cell_type": "markdown",
   "id": "c57f6f36-11d5-4dff-9153-67e372f12d64",
   "metadata": {},
   "source": [
    "### 2️.Show Dataset Shape (Rows & Columns)"
   ]
  },
  {
   "cell_type": "code",
   "execution_count": 93,
   "id": "1fd868eb-80c1-419d-b91b-76650d0b17e6",
   "metadata": {},
   "outputs": [
    {
     "name": "stdout",
     "output_type": "stream",
     "text": [
      "Dataset Shape: (45211, 17)\n"
     ]
    }
   ],
   "source": [
    "# Show dataset shape\n",
    "print(\"Dataset Shape:\", df.shape)"
   ]
  },
  {
   "cell_type": "markdown",
   "id": "66d04918-1569-42db-a856-4c2d404be29d",
   "metadata": {},
   "source": [
    "### 3.Describe Statistical Summaries"
   ]
  },
  {
   "cell_type": "code",
   "execution_count": 95,
   "id": "217d4899-1192-490c-8bb1-7ab7057f6076",
   "metadata": {},
   "outputs": [
    {
     "name": "stdout",
     "output_type": "stream",
     "text": [
      "Statistical Summary:\n",
      "                 age        balance           day      duration      campaign  \\\n",
      "count  45211.000000   45211.000000  45211.000000  45211.000000  45211.000000   \n",
      "mean      40.936210    1362.272058     15.806419    258.163080      2.763841   \n",
      "std       10.618762    3044.765829      8.322476    257.527812      3.098021   \n",
      "min       18.000000   -8019.000000      1.000000      0.000000      1.000000   \n",
      "25%       33.000000      72.000000      8.000000    103.000000      1.000000   \n",
      "50%       39.000000     448.000000     16.000000    180.000000      2.000000   \n",
      "75%       48.000000    1428.000000     21.000000    319.000000      3.000000   \n",
      "max       95.000000  102127.000000     31.000000   4918.000000     63.000000   \n",
      "\n",
      "              pdays      previous  \n",
      "count  45211.000000  45211.000000  \n",
      "mean      40.197828      0.580323  \n",
      "std      100.128746      2.303441  \n",
      "min       -1.000000      0.000000  \n",
      "25%       -1.000000      0.000000  \n",
      "50%       -1.000000      0.000000  \n",
      "75%       -1.000000      0.000000  \n",
      "max      871.000000    275.000000  \n"
     ]
    }
   ],
   "source": [
    "# Describe statistical summaries\n",
    "print(\"Statistical Summary:\\n\", df.describe())"
   ]
  },
  {
   "cell_type": "markdown",
   "id": "4f59b56e-2df3-4cb3-a9ac-8cdb550bb83a",
   "metadata": {},
   "source": [
    "### 4.Check Skewness"
   ]
  },
  {
   "cell_type": "code",
   "execution_count": 97,
   "id": "7c48a500-f511-4ddf-bf62-8b6e6c334a50",
   "metadata": {},
   "outputs": [
    {
     "name": "stdout",
     "output_type": "stream",
     "text": [
      "Skewness:\n",
      " age          0.684818\n",
      "balance      8.360308\n",
      "day          0.093079\n",
      "duration     3.144318\n",
      "campaign     4.898650\n",
      "pdays        2.615715\n",
      "previous    41.846454\n",
      "dtype: float64\n"
     ]
    }
   ],
   "source": [
    "# Check skewness for numerical columns only\n",
    "numerical_cols = df.select_dtypes(include=[np.number]).columns\n",
    "print(\"Skewness:\\n\", df[numerical_cols].skew())\n"
   ]
  },
  {
   "cell_type": "markdown",
   "id": "6ac7aadf-c107-4c55-a422-9fc01ebdd82d",
   "metadata": {},
   "source": [
    "### 5.Handle Outliers"
   ]
  },
  {
   "cell_type": "markdown",
   "id": "345516f0-88fa-4953-b174-6e695781f0bf",
   "metadata": {},
   "source": [
    "#### A) Identify Outliers using Box Plot"
   ]
  },
  {
   "cell_type": "code",
   "execution_count": 99,
   "id": "c203985f-3ad0-4c24-b7e3-290e26275062",
   "metadata": {},
   "outputs": [
    {
     "data": {
      "image/png": "[encoded data removed]",
      "text/plain": [
       "<Figure size 1200x600 with 1 Axes>"
      ]
     },
     "metadata": {},
     "output_type": "display_data"
    }
   ],
   "source": [
    "# Detect outliers using a box plot\n",
    "plt.figure(figsize=(12,6))\n",
    "sns.boxplot(data=df.select_dtypes(include=[np.number]))\n",
    "plt.xticks(rotation=90)\n",
    "plt.title(\"Box Plot for Outlier Detection\")\n",
    "plt.show()"
   ]
  },
  {
   "cell_type": "markdown",
   "id": "a2c21f96-0d84-486d-8f81-9f899ff5c5dc",
   "metadata": {},
   "source": [
    "#### B) Handle Outliers using IQR Method"
   ]
  },
  {
   "cell_type": "code",
   "execution_count": 102,
   "id": "0571ef6e-5f12-40e6-95d6-ce80c665eb88",
   "metadata": {},
   "outputs": [
    {
     "name": "stdout",
     "output_type": "stream",
     "text": [
      "Original Shape: (45211, 17), New Shape after Outlier Removal: (28193, 17)\n"
     ]
    }
   ],
   "source": [
    "# Compute IQR (Interquartile Range)\n",
    "Q1 = df[numerical_cols].quantile(0.25)\n",
    "Q3 = df[numerical_cols].quantile(0.75)\n",
    "IQR = Q3 - Q1\n",
    "\n",
    "# Remove outliers beyond 1.5 * IQR\n",
    "df_no_outliers = df[~((df[numerical_cols] < (Q1 - 1.5 * IQR)) | (df[numerical_cols] > (Q3 + 1.5 * IQR))).any(axis=1)]\n",
    "print(f\"Original Shape: {df.shape}, New Shape after Outlier Removal: {df_no_outliers.shape}\")\n"
   ]
  },
  {
   "cell_type": "markdown",
   "id": "68bcf297-6063-48f3-a579-6dfab115a9a6",
   "metadata": {},
   "source": [
    "#### C) Handle Outliers using Capping"
   ]
  },
  {
   "cell_type": "code",
   "execution_count": 120,
   "id": "c63bc709-0be4-405f-ac5e-5385b196d7e9",
   "metadata": {},
   "outputs": [
    {
     "data": {
      "text/html": [
       "<div>\n",
       "<style scoped>\n",
       "    .dataframe tbody tr th:only-of-type {\n",
       "        vertical-align: middle;\n",
       "    }\n",
       "\n",
       "    .dataframe tbody tr th {\n",
       "        vertical-align: top;\n",
       "    }\n",
       "\n",
       "    .dataframe thead th {\n",
       "        text-align: right;\n",
       "    }\n",
       "</style>\n",
       "<table border=\"1\" class=\"dataframe\">\n",
       "  <thead>\n",
       "    <tr style=\"text-align: right;\">\n",
       "      <th></th>\n",
       "      <th>age</th>\n",
       "      <th>balance</th>\n",
       "      <th>day</th>\n",
       "      <th>duration</th>\n",
       "      <th>campaign</th>\n",
       "      <th>pdays</th>\n",
       "      <th>previous</th>\n",
       "    </tr>\n",
       "  </thead>\n",
       "  <tbody>\n",
       "    <tr>\n",
       "      <th>count</th>\n",
       "      <td>45211.000000</td>\n",
       "      <td>45211.000000</td>\n",
       "      <td>45211.000000</td>\n",
       "      <td>45211.000000</td>\n",
       "      <td>45211.000000</td>\n",
       "      <td>45211.000000</td>\n",
       "      <td>45211.000000</td>\n",
       "    </tr>\n",
       "    <tr>\n",
       "      <th>mean</th>\n",
       "      <td>40.764084</td>\n",
       "      <td>1116.990843</td>\n",
       "      <td>15.786180</td>\n",
       "      <td>242.220787</td>\n",
       "      <td>2.511513</td>\n",
       "      <td>37.552100</td>\n",
       "      <td>0.378691</td>\n",
       "    </tr>\n",
       "    <tr>\n",
       "      <th>std</th>\n",
       "      <td>9.698341</td>\n",
       "      <td>1581.303636</td>\n",
       "      <td>8.145712</td>\n",
       "      <td>191.849581</td>\n",
       "      <td>1.905038</td>\n",
       "      <td>90.371771</td>\n",
       "      <td>0.881417</td>\n",
       "    </tr>\n",
       "    <tr>\n",
       "      <th>min</th>\n",
       "      <td>27.000000</td>\n",
       "      <td>-172.000000</td>\n",
       "      <td>3.000000</td>\n",
       "      <td>35.000000</td>\n",
       "      <td>1.000000</td>\n",
       "      <td>-1.000000</td>\n",
       "      <td>0.000000</td>\n",
       "    </tr>\n",
       "    <tr>\n",
       "      <th>25%</th>\n",
       "      <td>33.000000</td>\n",
       "      <td>72.000000</td>\n",
       "      <td>8.000000</td>\n",
       "      <td>103.000000</td>\n",
       "      <td>1.000000</td>\n",
       "      <td>-1.000000</td>\n",
       "      <td>0.000000</td>\n",
       "    </tr>\n",
       "    <tr>\n",
       "      <th>50%</th>\n",
       "      <td>39.000000</td>\n",
       "      <td>448.000000</td>\n",
       "      <td>16.000000</td>\n",
       "      <td>180.000000</td>\n",
       "      <td>2.000000</td>\n",
       "      <td>-1.000000</td>\n",
       "      <td>0.000000</td>\n",
       "    </tr>\n",
       "    <tr>\n",
       "      <th>75%</th>\n",
       "      <td>48.000000</td>\n",
       "      <td>1428.000000</td>\n",
       "      <td>21.000000</td>\n",
       "      <td>319.000000</td>\n",
       "      <td>3.000000</td>\n",
       "      <td>-1.000000</td>\n",
       "      <td>0.000000</td>\n",
       "    </tr>\n",
       "    <tr>\n",
       "      <th>max</th>\n",
       "      <td>59.000000</td>\n",
       "      <td>5768.000000</td>\n",
       "      <td>29.000000</td>\n",
       "      <td>751.000000</td>\n",
       "      <td>8.000000</td>\n",
       "      <td>317.000000</td>\n",
       "      <td>3.000000</td>\n",
       "    </tr>\n",
       "  </tbody>\n",
       "</table>\n",
       "</div>"
      ],
      "text/plain": [
       "                age       balance           day      duration      campaign  \\\n",
       "count  45211.000000  45211.000000  45211.000000  45211.000000  45211.000000   \n",
       "mean      40.764084   1116.990843     15.786180    242.220787      2.511513   \n",
       "std        9.698341   1581.303636      8.145712    191.849581      1.905038   \n",
       "min       27.000000   -172.000000      3.000000     35.000000      1.000000   \n",
       "25%       33.000000     72.000000      8.000000    103.000000      1.000000   \n",
       "50%       39.000000    448.000000     16.000000    180.000000      2.000000   \n",
       "75%       48.000000   1428.000000     21.000000    319.000000      3.000000   \n",
       "max       59.000000   5768.000000     29.000000    751.000000      8.000000   \n",
       "\n",
       "              pdays      previous  \n",
       "count  45211.000000  45211.000000  \n",
       "mean      37.552100      0.378691  \n",
       "std       90.371771      0.881417  \n",
       "min       -1.000000      0.000000  \n",
       "25%       -1.000000      0.000000  \n",
       "50%       -1.000000      0.000000  \n",
       "75%       -1.000000      0.000000  \n",
       "max      317.000000      3.000000  "
      ]
     },
     "execution_count": 120,
     "metadata": {},
     "output_type": "execute_result"
    }
   ],
   "source": [
    "# Define lower and upper percentile limits (5% and 95%)\n",
    "lower_limit = df[numerical_cols].quantile(0.05)\n",
    "upper_limit = df[numerical_cols].quantile(0.95)\n",
    "\n",
    "# Apply capping (clipping) to each column\n",
    "for col in numerical_cols:\n",
    "    df[col] = df[col].clip(lower=lower_limit[col], upper=upper_limit[col])\n",
    "\n",
    "# Verify changes with summary statistics\n",
    "df[numerical_cols].describe()\n"
   ]
  },
  {
   "cell_type": "markdown",
   "id": "6c77fd92-5e28-4bc1-ac6f-614accdcd103",
   "metadata": {},
   "source": [
    "### 6.Check for Missing Values"
   ]
  },
  {
   "cell_type": "code",
   "execution_count": 123,
   "id": "0756c3a0-6dfd-4854-bcbe-4b0ed3f17ec9",
   "metadata": {},
   "outputs": [
    {
     "name": "stdout",
     "output_type": "stream",
     "text": [
      "Missing Values in Dataset:\n",
      " age          0\n",
      "job          0\n",
      "marital      0\n",
      "education    0\n",
      "default      0\n",
      "balance      0\n",
      "housing      0\n",
      "loan         0\n",
      "contact      0\n",
      "day          0\n",
      "month        0\n",
      "duration     0\n",
      "campaign     0\n",
      "pdays        0\n",
      "previous     0\n",
      "poutcome     0\n",
      "y            0\n",
      "dtype: int64\n"
     ]
    }
   ],
   "source": [
    "# Check missing values\n",
    "print(\"Missing Values in Dataset:\\n\", df.isnull().sum())\n"
   ]
  },
  {
   "cell_type": "markdown",
   "id": "b858fdde-c654-4a8f-a6cf-631c444d7bc9",
   "metadata": {},
   "source": [
    "### Convert Categorical Data to Numerical"
   ]
  },
  {
   "cell_type": "code",
   "execution_count": 127,
   "id": "c0b9ef87-f1ca-469e-87a7-3c73a738ece1",
   "metadata": {},
   "outputs": [
    {
     "name": "stdout",
     "output_type": "stream",
     "text": [
      "Categorical Columns: Index(['job', 'marital', 'education', 'default', 'housing', 'loan', 'contact',\n",
      "       'month', 'poutcome', 'y'],\n",
      "      dtype='object')\n",
      "Numerical Columns: Index(['age', 'balance', 'day', 'duration', 'campaign', 'pdays', 'previous'], dtype='object')\n"
     ]
    }
   ],
   "source": [
    "# Identify categorical and numerical columns\n",
    "categorical_cols = df.select_dtypes(include=['object']).columns\n",
    "numerical_cols = df.select_dtypes(include=['int64', 'float64']).columns\n",
    "\n",
    "print(\"Categorical Columns:\", categorical_cols)\n",
    "print(\"Numerical Columns:\", numerical_cols)\n"
   ]
  },
  {
   "cell_type": "code",
   "execution_count": 145,
   "id": "8f5f0d80-d785-4401-bc08-21d01fc8aa10",
   "metadata": {},
   "outputs": [],
   "source": [
    "# Fill missing numerical values with median\n",
    "df.fillna(df.median(), inplace=True)\n",
    "\n",
    "# Fill missing categorical values with mode\n",
    "df.fillna(df.mode().iloc[0], inplace=True)\n"
   ]
  },
  {
   "cell_type": "code",
   "execution_count": 136,
   "id": "5270d684-93cb-4990-903d-e74fbc73bbca",
   "metadata": {},
   "outputs": [
    {
     "name": "stdout",
     "output_type": "stream",
     "text": [
      "Index(['age', 'balance', 'day', 'duration', 'campaign', 'pdays', 'previous',\n",
      "       'job_blue-collar', 'job_entrepreneur', 'job_housemaid',\n",
      "       'job_management', 'job_retired', 'job_self-employed', 'job_services',\n",
      "       'job_student', 'job_technician', 'job_unemployed', 'job_unknown',\n",
      "       'marital_married', 'marital_single', 'education_secondary',\n",
      "       'education_tertiary', 'education_unknown', 'default_yes', 'housing_yes',\n",
      "       'loan_yes', 'contact_telephone', 'contact_unknown', 'month_aug',\n",
      "       'month_dec', 'month_feb', 'month_jan', 'month_jul', 'month_jun',\n",
      "       'month_mar', 'month_may', 'month_nov', 'month_oct', 'month_sep',\n",
      "       'poutcome_other', 'poutcome_success', 'poutcome_unknown', 'y_yes'],\n",
      "      dtype='object')\n"
     ]
    }
   ],
   "source": [
    "print(df.columns)  # Check if column names match\n"
   ]
  },
  {
   "cell_type": "code",
   "execution_count": 138,
   "id": "5c64640f-a9ff-429d-a216-9f4ff80ca79a",
   "metadata": {},
   "outputs": [
    {
     "name": "stdout",
     "output_type": "stream",
     "text": [
      "Index(['age', 'balance', 'day', 'duration', 'campaign', 'pdays', 'previous',\n",
      "       'job_blue-collar', 'job_entrepreneur', 'job_housemaid',\n",
      "       'job_management', 'job_retired', 'job_self-employed', 'job_services',\n",
      "       'job_student', 'job_technician', 'job_unemployed', 'job_unknown',\n",
      "       'marital_married', 'marital_single', 'education_secondary',\n",
      "       'education_tertiary', 'education_unknown', 'default_yes', 'housing_yes',\n",
      "       'loan_yes', 'contact_telephone', 'contact_unknown', 'month_aug',\n",
      "       'month_dec', 'month_feb', 'month_jan', 'month_jul', 'month_jun',\n",
      "       'month_mar', 'month_may', 'month_nov', 'month_oct', 'month_sep',\n",
      "       'poutcome_other', 'poutcome_success', 'poutcome_unknown', 'y_yes'],\n",
      "      dtype='object')\n"
     ]
    }
   ],
   "source": [
    "df.columns = df.columns.str.strip().str.lower()  # Remove spaces and make lowercase\n",
    "print(df.columns)  # Check again\n"
   ]
  },
  {
   "cell_type": "code",
   "execution_count": 140,
   "id": "d129cea3-ad55-43ad-bc7e-3f4b8f2f0bdd",
   "metadata": {},
   "outputs": [
    {
     "name": "stdout",
     "output_type": "stream",
     "text": [
      "   age  balance  day  duration  campaign  pdays  previous  job_blue-collar  \\\n",
      "0   58     2143    5       261         1     -1         0            False   \n",
      "1   44       29    5       151         1     -1         0            False   \n",
      "2   33        2    5        76         1     -1         0            False   \n",
      "3   47     1506    5        92         1     -1         0             True   \n",
      "4   33        1    5       198         1     -1         0            False   \n",
      "\n",
      "   job_entrepreneur  job_housemaid  ...  month_jun  month_mar  month_may  \\\n",
      "0             False          False  ...      False      False       True   \n",
      "1             False          False  ...      False      False       True   \n",
      "2              True          False  ...      False      False       True   \n",
      "3             False          False  ...      False      False       True   \n",
      "4             False          False  ...      False      False       True   \n",
      "\n",
      "   month_nov  month_oct  month_sep  poutcome_other  poutcome_success  \\\n",
      "0      False      False      False           False             False   \n",
      "1      False      False      False           False             False   \n",
      "2      False      False      False           False             False   \n",
      "3      False      False      False           False             False   \n",
      "4      False      False      False           False             False   \n",
      "\n",
      "   poutcome_unknown  y_yes  \n",
      "0              True  False  \n",
      "1              True  False  \n",
      "2              True  False  \n",
      "3              True  False  \n",
      "4              True  False  \n",
      "\n",
      "[5 rows x 43 columns]\n"
     ]
    }
   ],
   "source": [
    "print(df.head())  # See current structure\n"
   ]
  },
  {
   "cell_type": "code",
   "execution_count": 142,
   "id": "49322a84-8125-4d6d-8bd9-a689531eb02d",
   "metadata": {},
   "outputs": [
    {
     "name": "stdout",
     "output_type": "stream",
     "text": [
      "Categorical columns successfully encoded!\n"
     ]
    }
   ],
   "source": [
    "# Identify categorical columns correctly\n",
    "categorical_cols = df.select_dtypes(include=['object']).columns\n",
    "\n",
    "# Apply One-Hot Encoding only to existing columns\n",
    "df = pd.get_dummies(df, columns=categorical_cols, drop_first=True)\n",
    "\n",
    "print(\"Categorical columns successfully encoded!\")\n"
   ]
  },
  {
   "cell_type": "markdown",
   "id": "0ba5f00c-a0e5-4fb6-bec3-c5ef6422cafa",
   "metadata": {},
   "source": [
    "### 7. Feature Scaling"
   ]
  },
  {
   "cell_type": "code",
   "execution_count": 197,
   "id": "beac0283-2db9-4635-87fc-3bc9f0c43751",
   "metadata": {},
   "outputs": [
    {
     "name": "stdout",
     "output_type": "stream",
     "text": [
      "Numerical columns successfully scaled!\n"
     ]
    },
    {
     "data": {
      "text/html": [
       "<div>\n",
       "<style scoped>\n",
       "    .dataframe tbody tr th:only-of-type {\n",
       "        vertical-align: middle;\n",
       "    }\n",
       "\n",
       "    .dataframe tbody tr th {\n",
       "        vertical-align: top;\n",
       "    }\n",
       "\n",
       "    .dataframe thead th {\n",
       "        text-align: right;\n",
       "    }\n",
       "</style>\n",
       "<table border=\"1\" class=\"dataframe\">\n",
       "  <thead>\n",
       "    <tr style=\"text-align: right;\">\n",
       "      <th></th>\n",
       "      <th>age</th>\n",
       "      <th>balance</th>\n",
       "      <th>day</th>\n",
       "      <th>duration</th>\n",
       "      <th>campaign</th>\n",
       "      <th>pdays</th>\n",
       "      <th>previous</th>\n",
       "      <th>job_blue-collar</th>\n",
       "      <th>job_entrepreneur</th>\n",
       "      <th>job_housemaid</th>\n",
       "      <th>...</th>\n",
       "      <th>month_mar</th>\n",
       "      <th>month_may</th>\n",
       "      <th>month_nov</th>\n",
       "      <th>month_oct</th>\n",
       "      <th>month_sep</th>\n",
       "      <th>poutcome_other</th>\n",
       "      <th>poutcome_success</th>\n",
       "      <th>poutcome_unknown</th>\n",
       "      <th>y_yes</th>\n",
       "      <th>y</th>\n",
       "    </tr>\n",
       "  </thead>\n",
       "  <tbody>\n",
       "    <tr>\n",
       "      <th>0</th>\n",
       "      <td>1.777222</td>\n",
       "      <td>0.648845</td>\n",
       "      <td>-1.324169</td>\n",
       "      <td>0.097886</td>\n",
       "      <td>-0.793438</td>\n",
       "      <td>-0.426599</td>\n",
       "      <td>-0.429644</td>\n",
       "      <td>False</td>\n",
       "      <td>False</td>\n",
       "      <td>False</td>\n",
       "      <td>...</td>\n",
       "      <td>False</td>\n",
       "      <td>True</td>\n",
       "      <td>False</td>\n",
       "      <td>False</td>\n",
       "      <td>False</td>\n",
       "      <td>False</td>\n",
       "      <td>False</td>\n",
       "      <td>True</td>\n",
       "      <td>False</td>\n",
       "      <td>0</td>\n",
       "    </tr>\n",
       "    <tr>\n",
       "      <th>1</th>\n",
       "      <td>0.333660</td>\n",
       "      <td>-0.688042</td>\n",
       "      <td>-1.324169</td>\n",
       "      <td>-0.475486</td>\n",
       "      <td>-0.793438</td>\n",
       "      <td>-0.426599</td>\n",
       "      <td>-0.429644</td>\n",
       "      <td>False</td>\n",
       "      <td>False</td>\n",
       "      <td>False</td>\n",
       "      <td>...</td>\n",
       "      <td>False</td>\n",
       "      <td>True</td>\n",
       "      <td>False</td>\n",
       "      <td>False</td>\n",
       "      <td>False</td>\n",
       "      <td>False</td>\n",
       "      <td>False</td>\n",
       "      <td>True</td>\n",
       "      <td>False</td>\n",
       "      <td>0</td>\n",
       "    </tr>\n",
       "    <tr>\n",
       "      <th>2</th>\n",
       "      <td>-0.800567</td>\n",
       "      <td>-0.705116</td>\n",
       "      <td>-1.324169</td>\n",
       "      <td>-0.866422</td>\n",
       "      <td>-0.793438</td>\n",
       "      <td>-0.426599</td>\n",
       "      <td>-0.429644</td>\n",
       "      <td>False</td>\n",
       "      <td>True</td>\n",
       "      <td>False</td>\n",
       "      <td>...</td>\n",
       "      <td>False</td>\n",
       "      <td>True</td>\n",
       "      <td>False</td>\n",
       "      <td>False</td>\n",
       "      <td>False</td>\n",
       "      <td>False</td>\n",
       "      <td>False</td>\n",
       "      <td>True</td>\n",
       "      <td>False</td>\n",
       "      <td>0</td>\n",
       "    </tr>\n",
       "    <tr>\n",
       "      <th>3</th>\n",
       "      <td>0.642995</td>\n",
       "      <td>0.246008</td>\n",
       "      <td>-1.324169</td>\n",
       "      <td>-0.783022</td>\n",
       "      <td>-0.793438</td>\n",
       "      <td>-0.426599</td>\n",
       "      <td>-0.429644</td>\n",
       "      <td>True</td>\n",
       "      <td>False</td>\n",
       "      <td>False</td>\n",
       "      <td>...</td>\n",
       "      <td>False</td>\n",
       "      <td>True</td>\n",
       "      <td>False</td>\n",
       "      <td>False</td>\n",
       "      <td>False</td>\n",
       "      <td>False</td>\n",
       "      <td>False</td>\n",
       "      <td>True</td>\n",
       "      <td>False</td>\n",
       "      <td>0</td>\n",
       "    </tr>\n",
       "    <tr>\n",
       "      <th>4</th>\n",
       "      <td>-0.800567</td>\n",
       "      <td>-0.705749</td>\n",
       "      <td>-1.324169</td>\n",
       "      <td>-0.230500</td>\n",
       "      <td>-0.793438</td>\n",
       "      <td>-0.426599</td>\n",
       "      <td>-0.429644</td>\n",
       "      <td>False</td>\n",
       "      <td>False</td>\n",
       "      <td>False</td>\n",
       "      <td>...</td>\n",
       "      <td>False</td>\n",
       "      <td>True</td>\n",
       "      <td>False</td>\n",
       "      <td>False</td>\n",
       "      <td>False</td>\n",
       "      <td>False</td>\n",
       "      <td>False</td>\n",
       "      <td>True</td>\n",
       "      <td>False</td>\n",
       "      <td>0</td>\n",
       "    </tr>\n",
       "  </tbody>\n",
       "</table>\n",
       "<p>5 rows × 44 columns</p>\n",
       "</div>"
      ],
      "text/plain": [
       "        age   balance       day  duration  campaign     pdays  previous  \\\n",
       "0  1.777222  0.648845 -1.324169  0.097886 -0.793438 -0.426599 -0.429644   \n",
       "1  0.333660 -0.688042 -1.324169 -0.475486 -0.793438 -0.426599 -0.429644   \n",
       "2 -0.800567 -0.705116 -1.324169 -0.866422 -0.793438 -0.426599 -0.429644   \n",
       "3  0.642995  0.246008 -1.324169 -0.783022 -0.793438 -0.426599 -0.429644   \n",
       "4 -0.800567 -0.705749 -1.324169 -0.230500 -0.793438 -0.426599 -0.429644   \n",
       "\n",
       "   job_blue-collar  job_entrepreneur  job_housemaid  ...  month_mar  \\\n",
       "0            False             False          False  ...      False   \n",
       "1            False             False          False  ...      False   \n",
       "2            False              True          False  ...      False   \n",
       "3             True             False          False  ...      False   \n",
       "4            False             False          False  ...      False   \n",
       "\n",
       "   month_may  month_nov  month_oct  month_sep  poutcome_other  \\\n",
       "0       True      False      False      False           False   \n",
       "1       True      False      False      False           False   \n",
       "2       True      False      False      False           False   \n",
       "3       True      False      False      False           False   \n",
       "4       True      False      False      False           False   \n",
       "\n",
       "   poutcome_success  poutcome_unknown  y_yes  y  \n",
       "0             False              True  False  0  \n",
       "1             False              True  False  0  \n",
       "2             False              True  False  0  \n",
       "3             False              True  False  0  \n",
       "4             False              True  False  0  \n",
       "\n",
       "[5 rows x 44 columns]"
      ]
     },
     "execution_count": 197,
     "metadata": {},
     "output_type": "execute_result"
    }
   ],
   "source": [
    "# Initialize the scaler\n",
    "scaler = StandardScaler()\n",
    "\n",
    "# Apply scaling to numerical features\n",
    "df[numerical_cols] = scaler.fit_transform(df[numerical_cols])\n",
    "\n",
    "print(\"Numerical columns successfully scaled!\")\n",
    "df.head()"
   ]
  },
  {
   "cell_type": "code",
   "execution_count": 199,
   "id": "970d01f9-6769-4d09-96de-213306b98845",
   "metadata": {},
   "outputs": [
    {
     "name": "stdout",
     "output_type": "stream",
     "text": [
      "\n",
      "✅ Data Preprocessing Completed! File Saved as 'bank-full-processed.csv'\n"
     ]
    }
   ],
   "source": [
    "# Save the preprocessed dataset\n",
    "df.to_csv(\"C:\\\\Users\\\\AS\\\\Downloads\\\\bank-full-processed.csv\", index=False)\n",
    "print(\"\\n✅ Data Preprocessing Completed! File Saved as 'bank-full-processed.csv'\")"
   ]
  }
 ],
 "metadata": {
  "kernelspec": {
   "display_name": "Python 3 (ipykernel)",
   "language": "python",
   "name": "python3"
  },
  "language_info": {
   "codemirror_mode": {
    "name": "ipython",
    "version": 3
   },
   "file_extension": ".py",
   "mimetype": "text/x-python",
   "name": "python",
   "nbconvert_exporter": "python",
   "pygments_lexer": "ipython3",
   "version": "3.12.7"
  }
 },
 "nbformat": 4,
 "nbformat_minor": 5
}
